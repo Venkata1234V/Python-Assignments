{
 "cells": [
  {
   "cell_type": "markdown",
   "metadata": {},
   "source": [
    "# Assignment Instructions\n",
    "\n",
    "`Hello Innominion,`\n",
    "\n",
    "- **Try to attempt all the questions in every possible way.**\n",
    "- **Some other topics are required to solve some questions. don't panic.**\n",
    "- **Those questions can be answered after the topics are taught.**\n",
    "\n",
    "\n",
    "- `Join Mentoring Session for the Support/Doubts Resolving with Our Technical Mentors (2.00 PM - 6.00 PM  Mon-Sat)` \n",
    "\n",
    "Happy Learning !!!"
   ]
  },
  {
   "cell_type": "code",
   "execution_count": null,
   "metadata": {},
   "outputs": [],
   "source": []
  },
  {
   "cell_type": "markdown",
   "metadata": {},
   "source": [
    "# Strings - Execrise"
   ]
  },
  {
   "cell_type": "code",
   "execution_count": 5,
   "metadata": {},
   "outputs": [],
   "source": [
    "text = \"\"\"The University of Hawaii began using radio to send digital information as early as 1971,using ALOHAnet. \n",
    "Friedhelm Hillebrand conceptualised SMS in 1984 while working for Deutsche Telekom. Sitting at a typewriter at home, \n",
    "Hillebrand typed out random sentences and counted every letter, number, punctuation, and space. \n",
    "Almost every time, the messages contained fewer than 160 characters, thus giving the basis for the \n",
    "limit one could type via text messaging. With Bernard Ghillebaert of France Télécom, he developed \n",
    "a proposal for the GSM (Groupe Spécial Mobile) meeting in February 1985 in Oslo. \n",
    "The first technical solution evolved in a GSM subgroup under the leadership of Finn Trosby. \n",
    "It was further developed under the leadership of Kevin Holley and Ian Harris (see Short Message Service). \n",
    "SMS forms an integral part of SS7 (Signalling System No. 7). Under SS7, it is a \"state\" with a 160 character data, \n",
    "coded in the ITU-T \"T.56\" text format, that has a \"sequence lead in\" to determine different language codes, \n",
    "and may have special character codes that permits, for example, sending simple graphs as text. \n",
    "This was part of ISDN (Integrated Services Digital Network) and since GSM is based on this, \n",
    "made its way to the mobile phone. Messages could be sent and received on ISDN phones, \n",
    "and these can send SMS to any GSM phone. The possibility of doing something is one thing, \n",
    "implementing it another, but systems existed from 1988 that sent SMS messages to mobile phones (compare ND-NOTIS).\"\"\""
   ]
  },
  {
   "cell_type": "markdown",
   "metadata": {},
   "source": [
    ">  `Question:` How many characters in text"
   ]
  },
  {
   "cell_type": "code",
   "execution_count": 6,
   "metadata": {},
   "outputs": [
    {
     "data": {
      "text/plain": [
       "1507"
      ]
     },
     "execution_count": 6,
     "metadata": {},
     "output_type": "execute_result"
    }
   ],
   "source": [
    "# CODE HERE\n",
    "len(text)"
   ]
  },
  {
   "cell_type": "code",
   "execution_count": 3,
   "metadata": {},
   "outputs": [
    {
     "data": {
      "text/plain": [
       "1507"
      ]
     },
     "execution_count": 3,
     "metadata": {},
     "output_type": "execute_result"
    }
   ],
   "source": []
  },
  {
   "cell_type": "markdown",
   "metadata": {},
   "source": [
    ">  `Question:` How many words are there in the \"text\""
   ]
  },
  {
   "cell_type": "code",
   "execution_count": 12,
   "metadata": {},
   "outputs": [
    {
     "name": "stdout",
     "output_type": "stream",
     "text": [
      "244\n"
     ]
    }
   ],
   "source": [
    "# CODE HERE\n",
    "word=len(text.split())\n",
    "print(word)"
   ]
  },
  {
   "cell_type": "code",
   "execution_count": 5,
   "metadata": {},
   "outputs": [
    {
     "data": {
      "text/plain": [
       "244"
      ]
     },
     "execution_count": 5,
     "metadata": {},
     "output_type": "execute_result"
    }
   ],
   "source": []
  },
  {
   "cell_type": "markdown",
   "metadata": {},
   "source": [
    ">  `Question:` How many unique words in the \"text\""
   ]
  },
  {
   "cell_type": "code",
   "execution_count": 11,
   "metadata": {},
   "outputs": [
    {
     "name": "stdout",
     "output_type": "stream",
     "text": [
      "179\n"
     ]
    }
   ],
   "source": [
    "# CODE HERE\n",
    "lst = text.split(' ')\n",
    "lst = set(lst)\n",
    "lst = list(lst)\n",
    "print(len(lst))"
   ]
  },
  {
   "cell_type": "markdown",
   "metadata": {},
   "source": []
  },
  {
   "cell_type": "markdown",
   "metadata": {},
   "source": [
    ">  `Question:` Find Lexical diversity\n",
    "\n",
    "lexical_diversity = (number of words)/(number of unique words)"
   ]
  },
  {
   "cell_type": "code",
   "execution_count": 13,
   "metadata": {},
   "outputs": [
    {
     "data": {
      "text/plain": [
       "1.3631284916201116"
      ]
     },
     "execution_count": 13,
     "metadata": {},
     "output_type": "execute_result"
    }
   ],
   "source": [
    "word/len(lst)"
   ]
  },
  {
   "cell_type": "markdown",
   "metadata": {},
   "source": [
    ">  `Question:` Count how many \"the\" in text"
   ]
  },
  {
   "cell_type": "code",
   "execution_count": 8,
   "metadata": {},
   "outputs": [
    {
     "name": "stdout",
     "output_type": "stream",
     "text": [
      "14\n"
     ]
    }
   ],
   "source": [
    "# CODE HERE\n",
    "upper_The=text.count(\"The\")\n",
    "lower_the=text.count(\"the\")\n",
    "count_the=upper_The+lower_the\n",
    "print(count_the)"
   ]
  },
  {
   "cell_type": "code",
   "execution_count": 14,
   "metadata": {},
   "outputs": [
    {
     "data": {
      "text/plain": [
       "14"
      ]
     },
     "execution_count": 14,
     "metadata": {},
     "output_type": "execute_result"
    }
   ],
   "source": [
    "text = text.lower()\n",
    "text.count('the')"
   ]
  },
  {
   "cell_type": "code",
   "execution_count": 10,
   "metadata": {},
   "outputs": [
    {
     "data": {
      "text/plain": [
       "14"
      ]
     },
     "execution_count": 10,
     "metadata": {},
     "output_type": "execute_result"
    }
   ],
   "source": []
  },
  {
   "cell_type": "markdown",
   "metadata": {},
   "source": [
    ">  `Question:` Count how many \"a\" in text"
   ]
  },
  {
   "cell_type": "code",
   "execution_count": 9,
   "metadata": {},
   "outputs": [
    {
     "name": "stdout",
     "output_type": "stream",
     "text": [
      "92\n"
     ]
    }
   ],
   "source": [
    "upper_A=text.count(\"A\")\n",
    "lower_a=text.count(\"a\")\n",
    "count_a=upper_A+lower_a\n",
    "print(count_a)"
   ]
  },
  {
   "cell_type": "code",
   "execution_count": null,
   "metadata": {},
   "outputs": [],
   "source": []
  },
  {
   "cell_type": "markdown",
   "metadata": {},
   "source": [
    ">  `Question:` Extract First 10 words in text"
   ]
  },
  {
   "cell_type": "code",
   "execution_count": 42,
   "metadata": {},
   "outputs": [
    {
     "name": "stdout",
     "output_type": "stream",
     "text": [
      "the university of hawaii began using radio to send digital\n"
     ]
    }
   ],
   "source": [
    "# CODE HERE\n",
    "words = text.split()\n",
    "first_10_words =' '.join(words[:10])\n",
    "print(first_10_words)"
   ]
  },
  {
   "cell_type": "code",
   "execution_count": 13,
   "metadata": {},
   "outputs": [
    {
     "data": {
      "text/plain": [
       "'The University of Hawaii began using radio to send digital'"
      ]
     },
     "execution_count": 13,
     "metadata": {},
     "output_type": "execute_result"
    }
   ],
   "source": []
  },
  {
   "cell_type": "markdown",
   "metadata": {},
   "source": [
    ">`Question:` Append \" Innomatics Reseach Labs\" after first 10 words in the text"
   ]
  },
  {
   "cell_type": "code",
   "execution_count": 14,
   "metadata": {},
   "outputs": [
    {
     "name": "stdout",
     "output_type": "stream",
     "text": [
      "The University of Hawaii began using radio to send digital Innomatics Reseach Labs\n"
     ]
    }
   ],
   "source": [
    "# CODE HERE\n",
    "words = text.split()\n",
    "words_0=\" \".join(words[:10])\n",
    "print(words_0+\" Innomatics Reseach Labs\")"
   ]
  },
  {
   "cell_type": "code",
   "execution_count": 2,
   "metadata": {},
   "outputs": [
    {
     "data": {
      "text/plain": [
       "'The University of Hawaii began using radio to send digital Innomatics Reseach Labs'"
      ]
     },
     "execution_count": 2,
     "metadata": {},
     "output_type": "execute_result"
    }
   ],
   "source": []
  },
  {
   "cell_type": "markdown",
   "metadata": {},
   "source": [
    ">  `Question:` Extract First Fourteen (14) character in text"
   ]
  },
  {
   "cell_type": "code",
   "execution_count": 15,
   "metadata": {},
   "outputs": [
    {
     "data": {
      "text/plain": [
       "'The University'"
      ]
     },
     "execution_count": 15,
     "metadata": {},
     "output_type": "execute_result"
    }
   ],
   "source": [
    "# CODE HERE\n",
    "text[:14]"
   ]
  },
  {
   "cell_type": "code",
   "execution_count": 17,
   "metadata": {},
   "outputs": [
    {
     "data": {
      "text/plain": [
       "'The University'"
      ]
     },
     "execution_count": 17,
     "metadata": {},
     "output_type": "execute_result"
    }
   ],
   "source": []
  },
  {
   "cell_type": "markdown",
   "metadata": {},
   "source": [
    ">  `Question:` Extract first Fourteen (14) words in text"
   ]
  },
  {
   "cell_type": "code",
   "execution_count": 16,
   "metadata": {},
   "outputs": [
    {
     "name": "stdout",
     "output_type": "stream",
     "text": [
      "The University of Hawaii began using radio to send digital information as early as\n"
     ]
    }
   ],
   "source": [
    "# CODE HERE\n",
    "words = text.split()\n",
    "first_14_words =' '.join(words[:14])\n",
    "print(first_14_words)"
   ]
  },
  {
   "cell_type": "code",
   "execution_count": 19,
   "metadata": {},
   "outputs": [
    {
     "data": {
      "text/plain": [
       "'The University of Hawaii began using radio to send digital information as early as'"
      ]
     },
     "execution_count": 19,
     "metadata": {},
     "output_type": "execute_result"
    }
   ],
   "source": []
  },
  {
   "cell_type": "markdown",
   "metadata": {},
   "source": [
    ">  `Question:` Extract First 10 words in text\n",
    "- Convert every letter into ***upper*** case\n",
    "- Convert every letter into ***lower*** case"
   ]
  },
  {
   "cell_type": "code",
   "execution_count": 17,
   "metadata": {},
   "outputs": [
    {
     "data": {
      "text/plain": [
       "'THE UNIVERSITY OF HAWAII BEGAN USING RADIO TO SEND DIGITAL'"
      ]
     },
     "execution_count": 17,
     "metadata": {},
     "output_type": "execute_result"
    }
   ],
   "source": [
    "# CODE HERE\n",
    "first_10_words.upper()"
   ]
  },
  {
   "cell_type": "code",
   "execution_count": 21,
   "metadata": {},
   "outputs": [
    {
     "data": {
      "text/plain": [
       "'THE UNIVERSITY OF HAWAII BEGAN USING RADIO TO SEND DIGITAL'"
      ]
     },
     "execution_count": 21,
     "metadata": {},
     "output_type": "execute_result"
    }
   ],
   "source": []
  },
  {
   "cell_type": "code",
   "execution_count": 18,
   "metadata": {},
   "outputs": [
    {
     "data": {
      "text/plain": [
       "'the university of hawaii began using radio to send digital'"
      ]
     },
     "execution_count": 18,
     "metadata": {},
     "output_type": "execute_result"
    }
   ],
   "source": [
    "# CODE HERE\n",
    "first_10_words.lower()"
   ]
  },
  {
   "cell_type": "code",
   "execution_count": 23,
   "metadata": {},
   "outputs": [
    {
     "data": {
      "text/plain": [
       "'the university of hawaii began using radio to send digital'"
      ]
     },
     "execution_count": 23,
     "metadata": {},
     "output_type": "execute_result"
    }
   ],
   "source": []
  },
  {
   "cell_type": "markdown",
   "metadata": {},
   "source": [
    ">  `Question:`  Find the list of letter starting with \n",
    "- u\n",
    "- o\n",
    "> `hint - You need to use for loop for this`"
   ]
  },
  {
   "cell_type": "code",
   "execution_count": 19,
   "metadata": {},
   "outputs": [],
   "source": [
    "# CODE HERE\n",
    "u_s=[]\n",
    "for i in words:\n",
    "    if i[0]=='u':\n",
    "        u_s.append(i)\n",
    "    "
   ]
  },
  {
   "cell_type": "code",
   "execution_count": 21,
   "metadata": {},
   "outputs": [],
   "source": [
    "u_s = set(u_s)\n",
    "u_s = list(u_s)"
   ]
  },
  {
   "cell_type": "code",
   "execution_count": 22,
   "metadata": {},
   "outputs": [
    {
     "data": {
      "text/plain": [
       "['using', 'university', 'under']"
      ]
     },
     "execution_count": 22,
     "metadata": {},
     "output_type": "execute_result"
    }
   ],
   "source": [
    "u_s"
   ]
  },
  {
   "cell_type": "code",
   "execution_count": 26,
   "metadata": {},
   "outputs": [
    {
     "name": "stdout",
     "output_type": "stream",
     "text": [
      "List of words staring with u is:\n",
      "{'using', 'university', 'under'}\n"
     ]
    }
   ],
   "source": []
  },
  {
   "cell_type": "code",
   "execution_count": 27,
   "metadata": {},
   "outputs": [],
   "source": [
    "u_1=[]\n",
    "for i in words:\n",
    "    if i[0]==\"o\":\n",
    "        u_1.append(i)"
   ]
  },
  {
   "cell_type": "code",
   "execution_count": 28,
   "metadata": {},
   "outputs": [
    {
     "name": "stdout",
     "output_type": "stream",
     "text": [
      "{'one', 'oslo.', 'on', 'of', 'out'}\n"
     ]
    }
   ],
   "source": [
    "u_1=set(u_1)\n",
    "print(u_1)"
   ]
  },
  {
   "cell_type": "code",
   "execution_count": 27,
   "metadata": {},
   "outputs": [
    {
     "name": "stdout",
     "output_type": "stream",
     "text": [
      "List of words staring with o is:\n",
      "{'out', 'of', 'one', 'on', 'oslo.'}\n"
     ]
    }
   ],
   "source": []
  },
  {
   "cell_type": "code",
   "execution_count": 34,
   "metadata": {},
   "outputs": [
    {
     "data": {
      "text/plain": [
       "True"
      ]
     },
     "execution_count": 34,
     "metadata": {},
     "output_type": "execute_result"
    }
   ],
   "source": [
    "string = 'asnan'\n",
    "string.startswith('as')"
   ]
  },
  {
   "cell_type": "code",
   "execution_count": null,
   "metadata": {},
   "outputs": [],
   "source": []
  },
  {
   "cell_type": "code",
   "execution_count": null,
   "metadata": {},
   "outputs": [],
   "source": []
  },
  {
   "cell_type": "markdown",
   "metadata": {},
   "source": [
    ">  `Question:` Find the list of letter ending with \n",
    "- e\n",
    "- n\n",
    "> `hint - You need to use for loop for this`"
   ]
  },
  {
   "cell_type": "code",
   "execution_count": 29,
   "metadata": {},
   "outputs": [],
   "source": [
    "# CODE HERE\n",
    "e_e=[]\n",
    "for i in words:\n",
    "    if i.endswith('e'):\n",
    "        e_e.append(i)"
   ]
  },
  {
   "cell_type": "code",
   "execution_count": 31,
   "metadata": {},
   "outputs": [
    {
     "name": "stdout",
     "output_type": "stream",
     "text": [
      "{'type', 'one', 'be', 'simple', 'made', '(compare', 'have', 'france', 'language', 'mobile', 'these', 'determine', '\"sequence', '(groupe', 'the', 'while', 'since', 'message', '(see', 'he', 'deutsche'}\n"
     ]
    }
   ],
   "source": [
    "e_e = set(e_e)\n",
    "print(e_e)"
   ]
  },
  {
   "cell_type": "code",
   "execution_count": 30,
   "metadata": {},
   "outputs": [
    {
     "name": "stdout",
     "output_type": "stream",
     "text": [
      "List of words ends with e is:\n",
      "{'be', 'these', 'deutsche', 'one', 'made', 'he', 'message', 'type', 'mobile', '(compare', 'france', 'determine', '(see', 'have', '(groupe', 'while', 'since', '\"sequence', 'simple', 'language', 'the'}\n"
     ]
    }
   ],
   "source": []
  },
  {
   "cell_type": "code",
   "execution_count": 31,
   "metadata": {},
   "outputs": [
    {
     "name": "stdout",
     "output_type": "stream",
     "text": [
      "List of words ends with n is:\n",
      "{'kevin', 'than', 'in', 'ian', 'an', 'solution', 'finn', 'on', 'can', 'information', 'isdn', 'began'}\n"
     ]
    }
   ],
   "source": []
  },
  {
   "cell_type": "code",
   "execution_count": 38,
   "metadata": {},
   "outputs": [],
   "source": [
    "e_n=[]\n",
    "for i in words:\n",
    "    if i.endswith('n'):\n",
    "        e_n.append(i)"
   ]
  },
  {
   "cell_type": "code",
   "execution_count": 39,
   "metadata": {},
   "outputs": [
    {
     "name": "stdout",
     "output_type": "stream",
     "text": [
      "{'can', 'isdn', 'information', 'began', 'kevin', 'on', 'in', 'ian', 'than', 'an', 'solution', 'finn'}\n"
     ]
    }
   ],
   "source": [
    "e_n=set(e_n)\n",
    "print(e_n)"
   ]
  },
  {
   "cell_type": "markdown",
   "metadata": {},
   "source": [
    ">  `Question:` Extract first 10 words of text and Capitalize first letter of each word"
   ]
  },
  {
   "cell_type": "code",
   "execution_count": 43,
   "metadata": {},
   "outputs": [
    {
     "data": {
      "text/plain": [
       "'The University Of Hawaii Began Using Radio To Send Digital'"
      ]
     },
     "execution_count": 43,
     "metadata": {},
     "output_type": "execute_result"
    }
   ],
   "source": [
    "# CODE HERE\n",
    "first_10_words.title()"
   ]
  },
  {
   "cell_type": "code",
   "execution_count": 44,
   "metadata": {},
   "outputs": [
    {
     "data": {
      "text/plain": [
       "'The university of hawaii began using radio to send digital'"
      ]
     },
     "execution_count": 44,
     "metadata": {},
     "output_type": "execute_result"
    }
   ],
   "source": [
    "first_10_words.capitalize()"
   ]
  },
  {
   "cell_type": "code",
   "execution_count": 33,
   "metadata": {},
   "outputs": [
    {
     "data": {
      "text/plain": [
       "'The University Of Hawaii Began Using Radio To Send Digital'"
      ]
     },
     "execution_count": 33,
     "metadata": {},
     "output_type": "execute_result"
    }
   ],
   "source": []
  },
  {
   "cell_type": "markdown",
   "metadata": {},
   "source": [
    ">  `Question:` Replace the word \"University\" with name \"Innomatics\" in text"
   ]
  },
  {
   "cell_type": "code",
   "execution_count": 11,
   "metadata": {},
   "outputs": [
    {
     "name": "stdout",
     "output_type": "stream",
     "text": [
      "The Innomatics of Hawaii began using radio to send digital information as early as 1971,using ALOHAnet. \n",
      "Friedhelm Hillebrand conceptualised SMS in 1984 while working for Deutsche Telekom. Sitting at a typewriter at home, \n",
      "Hillebrand typed out random sentences and counted every letter, number, punctuation, and space. \n",
      "Almost every time, the messages contained fewer than 160 characters, thus giving the basis for the \n",
      "limit one could type via text messaging. With Bernard Ghillebaert of France Télécom, he developed \n",
      "a proposal for the GSM (Groupe Spécial Mobile) meeting in February 1985 in Oslo. \n",
      "The first technical solution evolved in a GSM subgroup under the leadership of Finn Trosby. \n",
      "It was further developed under the leadership of Kevin Holley and Ian Harris (see Short Message Service). \n",
      "SMS forms an integral part of SS7 (Signalling System No. 7). Under SS7, it is a \"state\" with a 160 character data, \n",
      "coded in the ITU-T \"T.56\" text format, that has a \"sequence lead in\" to determine different language codes, \n",
      "and may have special character codes that permits, for example, sending simple graphs as text. \n",
      "This was part of ISDN (Integrated Services Digital Network) and since GSM is based on this, \n",
      "made its way to the mobile phone. Messages could be sent and received on ISDN phones, \n",
      "and these can send SMS to any GSM phone. The possibility of doing something is one thing, \n",
      "implementing it another, but systems existed from 1988 that sent SMS messages to mobile phones (compare ND-NOTIS).\n"
     ]
    }
   ],
   "source": [
    "# CODE HERE\n",
    "a=text.replace(\"University\",\"Innomatics\")\n",
    "print(a)"
   ]
  },
  {
   "cell_type": "code",
   "execution_count": 35,
   "metadata": {},
   "outputs": [
    {
     "name": "stdout",
     "output_type": "stream",
     "text": [
      "The Innomatics of Hawaii began using radio to send digital information as early as 1971,using ALOHAnet. \n",
      "Friedhelm Hillebrand conceptualised SMS in 1984 while working for Deutsche Telekom. Sitting at a typewriter at home, \n",
      "Hillebrand typed out random sentences and counted every letter, number, punctuation, and space. \n",
      "Almost every time, the messages contained fewer than 160 characters, thus giving the basis for the \n",
      "limit one could type via text messaging. With Bernard Ghillebaert of France Télécom, he developed \n",
      "a proposal for the GSM (Groupe Spécial Mobile) meeting in February 1985 in Oslo. \n",
      "The first technical solution evolved in a GSM subgroup under the leadership of Finn Trosby. \n",
      "It was further developed under the leadership of Kevin Holley and Ian Harris (see Short Message Service). \n",
      "SMS forms an integral part of SS7 (Signalling System No. 7). Under SS7, it is a \"state\" with a 160 character data, \n",
      "coded in the ITU-T \"T.56\" text format, that has a \"sequence lead in\" to determine different language codes, \n",
      "and may have special character codes that permits, for example, sending simple graphs as text. \n",
      "This was part of ISDN (Integrated Services Digital Network) and since GSM is based on this, \n",
      "made its way to the mobile phone. Messages could be sent and received on ISDN phones, \n",
      "and these can send SMS to any GSM phone. The possibility of doing something is one thing, \n",
      "implementing it another, but systems existed from 1988 that sent SMS messages to mobile phones (compare ND-NOTIS).\n"
     ]
    }
   ],
   "source": []
  },
  {
   "cell_type": "markdown",
   "metadata": {},
   "source": [
    "> `Question:`  Convert the \"text\" into sentances and store those into one variable called \"sentance\""
   ]
  },
  {
   "cell_type": "code",
   "execution_count": 59,
   "metadata": {},
   "outputs": [],
   "source": [
    "# CODE HERE\n",
    "sentence=text.split('.')"
   ]
  },
  {
   "cell_type": "code",
   "execution_count": 60,
   "metadata": {},
   "outputs": [
    {
     "data": {
      "text/plain": [
       "['the university of hawaii began using radio to send digital information as early as 1971,using alohanet',\n",
       " ' \\nfriedhelm hillebrand conceptualised sms in 1984 while working for deutsche telekom',\n",
       " ' sitting at a typewriter at home, \\nhillebrand typed out random sentences and counted every letter, number, punctuation, and space',\n",
       " ' \\nalmost every time, the messages contained fewer than 160 characters, thus giving the basis for the \\nlimit one could type via text messaging',\n",
       " ' with bernard ghillebaert of france télécom, he developed \\na proposal for the gsm (groupe spécial mobile) meeting in february 1985 in oslo',\n",
       " ' \\nthe first technical solution evolved in a gsm subgroup under the leadership of finn trosby',\n",
       " ' \\nit was further developed under the leadership of kevin holley and ian harris (see short message service)',\n",
       " ' \\nsms forms an integral part of ss7 (signalling system no',\n",
       " ' 7)',\n",
       " ' under ss7, it is a \"state\" with a 160 character data, \\ncoded in the itu-t \"t',\n",
       " '56\" text format, that has a \"sequence lead in\" to determine different language codes, \\nand may have special character codes that permits, for example, sending simple graphs as text',\n",
       " ' \\nthis was part of isdn (integrated services digital network) and since gsm is based on this, \\nmade its way to the mobile phone',\n",
       " ' messages could be sent and received on isdn phones, \\nand these can send sms to any gsm phone',\n",
       " ' the possibility of doing something is one thing, \\nimplementing it another, but systems existed from 1988 that sent sms messages to mobile phones (compare nd-notis)',\n",
       " '']"
      ]
     },
     "execution_count": 60,
     "metadata": {},
     "output_type": "execute_result"
    }
   ],
   "source": [
    "sentence"
   ]
  },
  {
   "cell_type": "code",
   "execution_count": null,
   "metadata": {},
   "outputs": [],
   "source": []
  },
  {
   "cell_type": "code",
   "execution_count": 2,
   "metadata": {},
   "outputs": [
    {
     "data": {
      "text/plain": [
       "['The University of Hawaii began using radio to send digital information as early as 1971,using ALOHAnet',\n",
       " ' \\nFriedhelm Hillebrand conceptualised SMS in 1984 while working for Deutsche Telekom',\n",
       " ' Sitting at a typewriter at home, \\nHillebrand typed out random sentences and counted every letter, number, punctuation, and space',\n",
       " ' \\nAlmost every time, the messages contained fewer than 160 characters, thus giving the basis for the \\nlimit one could type via text messaging',\n",
       " ' With Bernard Ghillebaert of France Télécom, he developed \\na proposal for the GSM (Groupe Spécial Mobile) meeting in February 1985 in Oslo',\n",
       " ' \\nThe first technical solution evolved in a GSM subgroup under the leadership of Finn Trosby',\n",
       " ' \\nIt was further developed under the leadership of Kevin Holley and Ian Harris (see Short Message Service)',\n",
       " ' \\nSMS forms an integral part of SS7 (Signalling System No',\n",
       " ' 7)',\n",
       " ' Under SS7, it is a \"state\" with a 160 character data, \\ncoded in the ITU-T \"T',\n",
       " '56\" text format, that has a \"sequence lead in\" to determine different language codes, \\nand may have special character codes that permits, for example, sending simple graphs as text',\n",
       " ' \\nThis was part of ISDN (Integrated Services Digital Network) and since GSM is based on this, \\nmade its way to the mobile phone',\n",
       " ' Messages could be sent and received on ISDN phones, \\nand these can send SMS to any GSM phone',\n",
       " ' The possibility of doing something is one thing, \\nimplementing it another, but systems existed from 1988 that sent SMS messages to mobile phones (compare ND-NOTIS)',\n",
       " '']"
      ]
     },
     "execution_count": 2,
     "metadata": {},
     "output_type": "execute_result"
    }
   ],
   "source": []
  },
  {
   "cell_type": "markdown",
   "metadata": {},
   "source": [
    " `Question:`\n",
    " \n",
    "> 1.From the above sentance remove '\\n'\n"
   ]
  },
  {
   "cell_type": "code",
   "execution_count": 64,
   "metadata": {},
   "outputs": [
    {
     "name": "stdout",
     "output_type": "stream",
     "text": [
      "['the university of hawaii began using radio to send digital information as early as 1971,using alohanet. friedhelm hillebrand conceptualised sms in 1984 while working for deutsche telekom. sitting at a typewriter at home, hillebrand typed out random sentences and counted every letter, number, punctuation, and space. almost every time, the messages contained fewer than 160 characters, thus giving the basis for the limit one could type via text messaging. with bernard ghillebaert of france télécom, he developed a proposal for the gsm (groupe spécial mobile) meeting in february 1985 in oslo. the first technical solution evolved in a gsm subgroup under the leadership of finn trosby. it was further developed under the leadership of kevin holley and ian harris (see short message service). sms forms an integral part of ss7 (signalling system no. 7). under ss7, it is a \"state\" with a 160 character data, coded in the itu-t \"t.56\" text format, that has a \"sequence lead in\" to determine different language codes, and may have special character codes that permits, for example, sending simple graphs as text. this was part of isdn (integrated services digital network) and since gsm is based on this, made its way to the mobile phone. messages could be sent and received on isdn phones, and these can send sms to any gsm phone. the possibility of doing something is one thing, implementing it another, but systems existed from 1988 that sent sms messages to mobile phones (compare nd-notis).']\n"
     ]
    }
   ],
   "source": [
    "word = text.split()\n",
    "words_1=\" \".join(word)\n",
    "k = words_1.split('\\n')\n",
    "print(k)"
   ]
  },
  {
   "cell_type": "markdown",
   "metadata": {},
   "source": [
    " > 2. From the above sentace print the first word from each sentance\n"
   ]
  },
  {
   "cell_type": "code",
   "execution_count": 85,
   "metadata": {},
   "outputs": [],
   "source": [
    "f_k=[]\n",
    "for i in k:\n",
    "    if k[0]:\n",
    "        f_k.append(i)"
   ]
  },
  {
   "cell_type": "code",
   "execution_count": 86,
   "metadata": {},
   "outputs": [
    {
     "name": "stdout",
     "output_type": "stream",
     "text": [
      "['[', \"'\", 't', 'h', 'e', ' ', 'u', 'n', 'i', 'v', 'e', 'r', 's', 'i', 't', 'y', ' ', 'o', 'f', ' ', 'h', 'a', 'w', 'a', 'i', 'i', ' ', 'b', 'e', 'g', 'a', 'n', ' ', 'u', 's', 'i', 'n', 'g', ' ', 'r', 'a', 'd', 'i', 'o', ' ', 't', 'o', ' ', 's', 'e', 'n', 'd', ' ', 'd', 'i', 'g', 'i', 't', 'a', 'l', ' ', 'i', 'n', 'f', 'o', 'r', 'm', 'a', 't', 'i', 'o', 'n', ' ', 'a', 's', ' ', 'e', 'a', 'r', 'l', 'y', ' ', 'a', 's', ' ', '1', '9', '7', '1', ',', 'u', 's', 'i', 'n', 'g', ' ', 'a', 'l', 'o', 'h', 'a', 'n', 'e', 't', '.', ' ', 'f', 'r', 'i', 'e', 'd', 'h', 'e', 'l', 'm', ' ', 'h', 'i', 'l', 'l', 'e', 'b', 'r', 'a', 'n', 'd', ' ', 'c', 'o', 'n', 'c', 'e', 'p', 't', 'u', 'a', 'l', 'i', 's', 'e', 'd', ' ', 's', 'm', 's', ' ', 'i', 'n', ' ', '1', '9', '8', '4', ' ', 'w', 'h', 'i', 'l', 'e', ' ', 'w', 'o', 'r', 'k', 'i', 'n', 'g', ' ', 'f', 'o', 'r', ' ', 'd', 'e', 'u', 't', 's', 'c', 'h', 'e', ' ', 't', 'e', 'l', 'e', 'k', 'o', 'm', '.', ' ', 's', 'i', 't', 't', 'i', 'n', 'g', ' ', 'a', 't', ' ', 'a', ' ', 't', 'y', 'p', 'e', 'w', 'r', 'i', 't', 'e', 'r', ' ', 'a', 't', ' ', 'h', 'o', 'm', 'e', ',', ' ', 'h', 'i', 'l', 'l', 'e', 'b', 'r', 'a', 'n', 'd', ' ', 't', 'y', 'p', 'e', 'd', ' ', 'o', 'u', 't', ' ', 'r', 'a', 'n', 'd', 'o', 'm', ' ', 's', 'e', 'n', 't', 'e', 'n', 'c', 'e', 's', ' ', 'a', 'n', 'd', ' ', 'c', 'o', 'u', 'n', 't', 'e', 'd', ' ', 'e', 'v', 'e', 'r', 'y', ' ', 'l', 'e', 't', 't', 'e', 'r', ',', ' ', 'n', 'u', 'm', 'b', 'e', 'r', ',', ' ', 'p', 'u', 'n', 'c', 't', 'u', 'a', 't', 'i', 'o', 'n', ',', ' ', 'a', 'n', 'd', ' ', 's', 'p', 'a', 'c', 'e', '.', ' ', 'a', 'l', 'm', 'o', 's', 't', ' ', 'e', 'v', 'e', 'r', 'y', ' ', 't', 'i', 'm', 'e', ',', ' ', 't', 'h', 'e', ' ', 'm', 'e', 's', 's', 'a', 'g', 'e', 's', ' ', 'c', 'o', 'n', 't', 'a', 'i', 'n', 'e', 'd', ' ', 'f', 'e', 'w', 'e', 'r', ' ', 't', 'h', 'a', 'n', ' ', '1', '6', '0', ' ', 'c', 'h', 'a', 'r', 'a', 'c', 't', 'e', 'r', 's', ',', ' ', 't', 'h', 'u', 's', ' ', 'g', 'i', 'v', 'i', 'n', 'g', ' ', 't', 'h', 'e', ' ', 'b', 'a', 's', 'i', 's', ' ', 'f', 'o', 'r', ' ', 't', 'h', 'e', ' ', 'l', 'i', 'm', 'i', 't', ' ', 'o', 'n', 'e', ' ', 'c', 'o', 'u', 'l', 'd', ' ', 't', 'y', 'p', 'e', ' ', 'v', 'i', 'a', ' ', 't', 'e', 'x', 't', ' ', 'm', 'e', 's', 's', 'a', 'g', 'i', 'n', 'g', '.', ' ', 'w', 'i', 't', 'h', ' ', 'b', 'e', 'r', 'n', 'a', 'r', 'd', ' ', 'g', 'h', 'i', 'l', 'l', 'e', 'b', 'a', 'e', 'r', 't', ' ', 'o', 'f', ' ', 'f', 'r', 'a', 'n', 'c', 'e', ' ', 't', 'é', 'l', 'é', 'c', 'o', 'm', ',', ' ', 'h', 'e', ' ', 'd', 'e', 'v', 'e', 'l', 'o', 'p', 'e', 'd', ' ', 'a', ' ', 'p', 'r', 'o', 'p', 'o', 's', 'a', 'l', ' ', 'f', 'o', 'r', ' ', 't', 'h', 'e', ' ', 'g', 's', 'm', ' ', '(', 'g', 'r', 'o', 'u', 'p', 'e', ' ', 's', 'p', 'é', 'c', 'i', 'a', 'l', ' ', 'm', 'o', 'b', 'i', 'l', 'e', ')', ' ', 'm', 'e', 'e', 't', 'i', 'n', 'g', ' ', 'i', 'n', ' ', 'f', 'e', 'b', 'r', 'u', 'a', 'r', 'y', ' ', '1', '9', '8', '5', ' ', 'i', 'n', ' ', 'o', 's', 'l', 'o', '.', ' ', 't', 'h', 'e', ' ', 'f', 'i', 'r', 's', 't', ' ', 't', 'e', 'c', 'h', 'n', 'i', 'c', 'a', 'l', ' ', 's', 'o', 'l', 'u', 't', 'i', 'o', 'n', ' ', 'e', 'v', 'o', 'l', 'v', 'e', 'd', ' ', 'i', 'n', ' ', 'a', ' ', 'g', 's', 'm', ' ', 's', 'u', 'b', 'g', 'r', 'o', 'u', 'p', ' ', 'u', 'n', 'd', 'e', 'r', ' ', 't', 'h', 'e', ' ', 'l', 'e', 'a', 'd', 'e', 'r', 's', 'h', 'i', 'p', ' ', 'o', 'f', ' ', 'f', 'i', 'n', 'n', ' ', 't', 'r', 'o', 's', 'b', 'y', '.', ' ', 'i', 't', ' ', 'w', 'a', 's', ' ', 'f', 'u', 'r', 't', 'h', 'e', 'r', ' ', 'd', 'e', 'v', 'e', 'l', 'o', 'p', 'e', 'd', ' ', 'u', 'n', 'd', 'e', 'r', ' ', 't', 'h', 'e', ' ', 'l', 'e', 'a', 'd', 'e', 'r', 's', 'h', 'i', 'p', ' ', 'o', 'f', ' ', 'k', 'e', 'v', 'i', 'n', ' ', 'h', 'o', 'l', 'l', 'e', 'y', ' ', 'a', 'n', 'd', ' ', 'i', 'a', 'n', ' ', 'h', 'a', 'r', 'r', 'i', 's', ' ', '(', 's', 'e', 'e', ' ', 's', 'h', 'o', 'r', 't', ' ', 'm', 'e', 's', 's', 'a', 'g', 'e', ' ', 's', 'e', 'r', 'v', 'i', 'c', 'e', ')', '.', ' ', 's', 'm', 's', ' ', 'f', 'o', 'r', 'm', 's', ' ', 'a', 'n', ' ', 'i', 'n', 't', 'e', 'g', 'r', 'a', 'l', ' ', 'p', 'a', 'r', 't', ' ', 'o', 'f', ' ', 's', 's', '7', ' ', '(', 's', 'i', 'g', 'n', 'a', 'l', 'l', 'i', 'n', 'g', ' ', 's', 'y', 's', 't', 'e', 'm', ' ', 'n', 'o', '.', ' ', '7', ')', '.', ' ', 'u', 'n', 'd', 'e', 'r', ' ', 's', 's', '7', ',', ' ', 'i', 't', ' ', 'i', 's', ' ', 'a', ' ', '\"', 's', 't', 'a', 't', 'e', '\"', ' ', 'w', 'i', 't', 'h', ' ', 'a', ' ', '1', '6', '0', ' ', 'c', 'h', 'a', 'r', 'a', 'c', 't', 'e', 'r', ' ', 'd', 'a', 't', 'a', ',', ' ', 'c', 'o', 'd', 'e', 'd', ' ', 'i', 'n', ' ', 't', 'h', 'e', ' ', 'i', 't', 'u', '-', 't', ' ', '\"', 't', '.', '5', '6', '\"', ' ', 't', 'e', 'x', 't', ' ', 'f', 'o', 'r', 'm', 'a', 't', ',', ' ', 't', 'h', 'a', 't', ' ', 'h', 'a', 's', ' ', 'a', ' ', '\"', 's', 'e', 'q', 'u', 'e', 'n', 'c', 'e', ' ', 'l', 'e', 'a', 'd', ' ', 'i', 'n', '\"', ' ', 't', 'o', ' ', 'd', 'e', 't', 'e', 'r', 'm', 'i', 'n', 'e', ' ', 'd', 'i', 'f', 'f', 'e', 'r', 'e', 'n', 't', ' ', 'l', 'a', 'n', 'g', 'u', 'a', 'g', 'e', ' ', 'c', 'o', 'd', 'e', 's', ',', ' ', 'a', 'n', 'd', ' ', 'm', 'a', 'y', ' ', 'h', 'a', 'v', 'e', ' ', 's', 'p', 'e', 'c', 'i', 'a', 'l', ' ', 'c', 'h', 'a', 'r', 'a', 'c', 't', 'e', 'r', ' ', 'c', 'o', 'd', 'e', 's', ' ', 't', 'h', 'a', 't', ' ', 'p', 'e', 'r', 'm', 'i', 't', 's', ',', ' ', 'f', 'o', 'r', ' ', 'e', 'x', 'a', 'm', 'p', 'l', 'e', ',', ' ', 's', 'e', 'n', 'd', 'i', 'n', 'g', ' ', 's', 'i', 'm', 'p', 'l', 'e', ' ', 'g', 'r', 'a', 'p', 'h', 's', ' ', 'a', 's', ' ', 't', 'e', 'x', 't', '.', ' ', 't', 'h', 'i', 's', ' ', 'w', 'a', 's', ' ', 'p', 'a', 'r', 't', ' ', 'o', 'f', ' ', 'i', 's', 'd', 'n', ' ', '(', 'i', 'n', 't', 'e', 'g', 'r', 'a', 't', 'e', 'd', ' ', 's', 'e', 'r', 'v', 'i', 'c', 'e', 's', ' ', 'd', 'i', 'g', 'i', 't', 'a', 'l', ' ', 'n', 'e', 't', 'w', 'o', 'r', 'k', ')', ' ', 'a', 'n', 'd', ' ', 's', 'i', 'n', 'c', 'e', ' ', 'g', 's', 'm', ' ', 'i', 's', ' ', 'b', 'a', 's', 'e', 'd', ' ', 'o', 'n', ' ', 't', 'h', 'i', 's', ',', ' ', 'm', 'a', 'd', 'e', ' ', 'i', 't', 's', ' ', 'w', 'a', 'y', ' ', 't', 'o', ' ', 't', 'h', 'e', ' ', 'm', 'o', 'b', 'i', 'l', 'e', ' ', 'p', 'h', 'o', 'n', 'e', '.', ' ', 'm', 'e', 's', 's', 'a', 'g', 'e', 's', ' ', 'c', 'o', 'u', 'l', 'd', ' ', 'b', 'e', ' ', 's', 'e', 'n', 't', ' ', 'a', 'n', 'd', ' ', 'r', 'e', 'c', 'e', 'i', 'v', 'e', 'd', ' ', 'o', 'n', ' ', 'i', 's', 'd', 'n', ' ', 'p', 'h', 'o', 'n', 'e', 's', ',', ' ', 'a', 'n', 'd', ' ', 't', 'h', 'e', 's', 'e', ' ', 'c', 'a', 'n', ' ', 's', 'e', 'n', 'd', ' ', 's', 'm', 's', ' ', 't', 'o', ' ', 'a', 'n', 'y', ' ', 'g', 's', 'm', ' ', 'p', 'h', 'o', 'n', 'e', '.', ' ', 't', 'h', 'e', ' ', 'p', 'o', 's', 's', 'i', 'b', 'i', 'l', 'i', 't', 'y', ' ', 'o', 'f', ' ', 'd', 'o', 'i', 'n', 'g', ' ', 's', 'o', 'm', 'e', 't', 'h', 'i', 'n', 'g', ' ', 'i', 's', ' ', 'o', 'n', 'e', ' ', 't', 'h', 'i', 'n', 'g', ',', ' ', 'i', 'm', 'p', 'l', 'e', 'm', 'e', 'n', 't', 'i', 'n', 'g', ' ', 'i', 't', ' ', 'a', 'n', 'o', 't', 'h', 'e', 'r', ',', ' ', 'b', 'u', 't', ' ', 's', 'y', 's', 't', 'e', 'm', 's', ' ', 'e', 'x', 'i', 's', 't', 'e', 'd', ' ', 'f', 'r', 'o', 'm', ' ', '1', '9', '8', '8', ' ', 't', 'h', 'a', 't', ' ', 's', 'e', 'n', 't', ' ', 's', 'm', 's', ' ', 'm', 'e', 's', 's', 'a', 'g', 'e', 's', ' ', 't', 'o', ' ', 'm', 'o', 'b', 'i', 'l', 'e', ' ', 'p', 'h', 'o', 'n', 'e', 's', ' ', '(', 'c', 'o', 'm', 'p', 'a', 'r', 'e', ' ', 'n', 'd', '-', 'n', 'o', 't', 'i', 's', ')', '.', \"'\", ']']\n"
     ]
    }
   ],
   "source": [
    "print(f_k)"
   ]
  },
  {
   "cell_type": "markdown",
   "metadata": {},
   "source": [
    "> 3. From the above sentace print even posioned sentances"
   ]
  },
  {
   "cell_type": "code",
   "execution_count": null,
   "metadata": {},
   "outputs": [],
   "source": []
  },
  {
   "cell_type": "markdown",
   "metadata": {},
   "source": [
    ">   `Question:` If the following string is given as input to the program:\n",
    "\n",
    "- H1e2l3l4o5w6o7r8l9d\n",
    "\n",
    ">   `Output:`  Then, the output of the program should be:\n",
    "\n",
    "- Helloworld"
   ]
  },
  {
   "cell_type": "code",
   "execution_count": 48,
   "metadata": {},
   "outputs": [
    {
     "name": "stdout",
     "output_type": "stream",
     "text": [
      "Helloworld\n"
     ]
    }
   ],
   "source": [
    "# CODE HEREinput_string = \"H1e2l3l4o5w6o7r8l9d\"\n",
    "input_string = \"H1e2l3l4o5w6o7r8l9d\"\n",
    "output_string = input_string[::2]\n",
    "print(output_string)"
   ]
  },
  {
   "cell_type": "code",
   "execution_count": 52,
   "metadata": {},
   "outputs": [],
   "source": [
    "s = ''\n",
    "for i in input_string:\n",
    "    if i.isalpha() :\n",
    "        s = s + i"
   ]
  },
  {
   "cell_type": "code",
   "execution_count": 55,
   "metadata": {},
   "outputs": [
    {
     "data": {
      "text/plain": [
       "'Helloworld'"
      ]
     },
     "execution_count": 55,
     "metadata": {},
     "output_type": "execute_result"
    }
   ],
   "source": [
    "s = ''\n",
    "for i in range(len(input_string)) :\n",
    "    if i % 2 == 0 :\n",
    "        s = s + input_string[i]\n",
    "\n",
    "s"
   ]
  },
  {
   "cell_type": "markdown",
   "metadata": {},
   "source": [
    "# [Innomatics Research Labs](https:/innomatics.in/)\n",
    "[www.innomatics.in](https:/innomatics.in/)"
   ]
  },
  {
   "cell_type": "code",
   "execution_count": null,
   "metadata": {},
   "outputs": [],
   "source": []
  }
 ],
 "metadata": {
  "kernelspec": {
   "display_name": "Python 3 (ipykernel)",
   "language": "python",
   "name": "python3"
  },
  "language_info": {
   "codemirror_mode": {
    "name": "ipython",
    "version": 3
   },
   "file_extension": ".py",
   "mimetype": "text/x-python",
   "name": "python",
   "nbconvert_exporter": "python",
   "pygments_lexer": "ipython3",
   "version": "3.11.7"
  }
 },
 "nbformat": 4,
 "nbformat_minor": 4
}
