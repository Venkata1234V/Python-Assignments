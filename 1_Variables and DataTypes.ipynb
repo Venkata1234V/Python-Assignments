{
 "cells": [
  {
   "cell_type": "markdown",
   "metadata": {},
   "source": [
    "# Assignment Instructions\n",
    "\n",
    "`Hello Innominion,`\n",
    "\n",
    "- **Try to attempt all the questions in every possible way.**\n",
    "- **Some other topics are required to solve some questions. don't panic.**\n",
    "- **Those questions can be answered after the topics are taught.**\n",
    "\n",
    "\n",
    "- `Join Mentoring Session for the Support/Doubts Resolving with Our Technical Mentors (2.00 PM - 6.00 PM  Mon-Sat)` \n",
    "\n",
    "Happy Learning !!!"
   ]
  },
  {
   "cell_type": "markdown",
   "metadata": {},
   "source": [
    "## Basics of Python"
   ]
  },
  {
   "cell_type": "markdown",
   "metadata": {},
   "source": [
    "> `Question:` Print your name"
   ]
  },
  {
   "cell_type": "code",
   "execution_count": 1,
   "metadata": {},
   "outputs": [
    {
     "name": "stdout",
     "output_type": "stream",
     "text": [
      "My name is Innomatics\n"
     ]
    }
   ],
   "source": [
    "# CODE HERE\n",
    "print(\"My name is Innomatics\")"
   ]
  },
  {
   "cell_type": "markdown",
   "metadata": {},
   "source": [
    "> `Question:` What is a variable? Write a Few words about Variables. Create a Variable with an Example. "
   ]
  },
  {
   "cell_type": "code",
   "execution_count": 2,
   "metadata": {},
   "outputs": [
    {
     "name": "stdout",
     "output_type": "stream",
     "text": [
      "12\n",
      "narasimha\n"
     ]
    }
   ],
   "source": [
    "# WRITE HERE\n",
    "#In programming and mathematics, a variable is a symbolic name or identifier that represents a value which can vary or change during the execution of a program or within a mathematical context. Variables are used to store data that may be manipulated or referenced in a program or equation.\n",
    "#ex:\n",
    "my_variable1=12\n",
    "my_variable2=\"narasimha\"\n",
    "print(my_variable1)\n",
    "print(my_variable2)"
   ]
  },
  {
   "cell_type": "code",
   "execution_count": 3,
   "metadata": {},
   "outputs": [
    {
     "name": "stdout",
     "output_type": "stream",
     "text": [
      "10\n"
     ]
    }
   ],
   "source": [
    "# Code Here\n",
    "my_variable=10\n",
    "print(my_variable)"
   ]
  },
  {
   "cell_type": "markdown",
   "metadata": {},
   "source": [
    ">`Question:` Assume that we execute the following assignment statements:\n",
    "width = 17\n",
    "height = 12.0\n",
    "delimiter = '.'\n",
    "For each of the following expressions, write the value of the expression and the type (of the value of\n",
    "the expression).\n",
    "1. width/2\n",
    "2. width/2.0\n",
    "3. height/3\n",
    "4. 1 + 2 * 5\n",
    "5. delimiter * 5"
   ]
  },
  {
   "cell_type": "code",
   "execution_count": 4,
   "metadata": {},
   "outputs": [
    {
     "name": "stdout",
     "output_type": "stream",
     "text": [
      "width/2 = 8.5\n",
      "width/2.0 = 8.5\n",
      "height/3 = 4.0\n",
      "11\n",
      ".....\n"
     ]
    }
   ],
   "source": [
    "# CODE HERE\n",
    "width=17\n",
    "height=12.0\n",
    "delimiter=\".\"\n",
    "print(\"width/2 =\",width/2)\n",
    "print(\"width/2.0 =\",width/2.0)\n",
    "print(\"height/3 =\",height/3)\n",
    "print(1+2*5)\n",
    "print(delimiter*5)\n",
    "\n"
   ]
  },
  {
   "cell_type": "raw",
   "metadata": {},
   "source": [
    "# Sample Outputs\n",
    "1. width/2 = 8.5\n",
    "2. width/2.0 = 8.5\n",
    "3. height/3 = 4.0\n",
    "4. 11\n",
    "5. ....."
   ]
  },
  {
   "cell_type": "markdown",
   "metadata": {},
   "source": [
    "> `Question:` Add two number by taking variable names as first and seccond"
   ]
  },
  {
   "cell_type": "code",
   "execution_count": 5,
   "metadata": {},
   "outputs": [
    {
     "name": "stdout",
     "output_type": "stream",
     "text": [
      "first number is : 100\n",
      "second number is : 200\n",
      "Addition of two numbers are : 300\n"
     ]
    }
   ],
   "source": [
    "#CODE HERE\n",
    "first_number=100\n",
    "second_number=200\n",
    "add=first_number+second_number\n",
    "print(\"first number is :\",first_number)\n",
    "print(\"second number is :\",second_number)\n",
    "print(\"Addition of two numbers are :\",add)\n"
   ]
  },
  {
   "cell_type": "code",
   "execution_count": null,
   "metadata": {},
   "outputs": [],
   "source": []
  },
  {
   "cell_type": "markdown",
   "metadata": {},
   "source": [
    "> `Question:` Add your first name and second name"
   ]
  },
  {
   "cell_type": "code",
   "execution_count": 6,
   "metadata": {},
   "outputs": [
    {
     "name": "stdout",
     "output_type": "stream",
     "text": [
      "My first name is : Sachin\n",
      "My second name is : Tendulkar\n",
      "My full name is : SachinTendulkar\n"
     ]
    }
   ],
   "source": [
    "# CODE HERE\n",
    "first_name=\"Sachin\"\n",
    "second_name=\"Tendulkar\"\n",
    "my_full_name=first_name+second_name\n",
    "print(\"My first name is :\",first_name)\n",
    "print(\"My second name is :\",second_name)\n",
    "print(\"My full name is :\",my_full_name)"
   ]
  },
  {
   "cell_type": "code",
   "execution_count": null,
   "metadata": {},
   "outputs": [],
   "source": []
  },
  {
   "cell_type": "code",
   "execution_count": null,
   "metadata": {},
   "outputs": [],
   "source": []
  },
  {
   "cell_type": "markdown",
   "metadata": {},
   "source": [
    "> `Question:` print the datatypes of the following\n",
    "- 10,'10',True,10.5"
   ]
  },
  {
   "cell_type": "code",
   "execution_count": 7,
   "metadata": {},
   "outputs": [
    {
     "name": "stdout",
     "output_type": "stream",
     "text": [
      "10 - <class 'int'>\n",
      "10 - <class 'str'>\n",
      "True - <class 'bool'>\n",
      "10.5 - <class 'float'>\n"
     ]
    }
   ],
   "source": [
    "# CODE HERE\n",
    "a=10\n",
    "b=\"10\"\n",
    "c=True\n",
    "d=10.5\n",
    "print(a,\"-\",type(a))\n",
    "print(b,\"-\",type(b))\n",
    "print(c,\"-\",type(c))\n",
    "print(d,\"-\",type(d))"
   ]
  },
  {
   "cell_type": "code",
   "execution_count": null,
   "metadata": {},
   "outputs": [],
   "source": []
  },
  {
   "cell_type": "markdown",
   "metadata": {},
   "source": [
    " `Question:` \n",
    "> - num_int = 123\n",
    "> - num_str = \"456\"\n",
    "> - Add num_int and num_str\n",
    "- `hint: first need to convert num_str into integer`"
   ]
  },
  {
   "cell_type": "code",
   "execution_count": 8,
   "metadata": {},
   "outputs": [
    {
     "name": "stdout",
     "output_type": "stream",
     "text": [
      "Addition of 123 and 456 is : 579\n"
     ]
    }
   ],
   "source": [
    "# CODE HERE\n",
    "num_int=123\n",
    "num_str=\"456\"\n",
    "num=int(num_str)\n",
    "add=num_int+num\n",
    "print(\"Addition of 123 and 456 is :\",add)"
   ]
  },
  {
   "cell_type": "code",
   "execution_count": null,
   "metadata": {},
   "outputs": [],
   "source": []
  },
  {
   "cell_type": "code",
   "execution_count": null,
   "metadata": {},
   "outputs": [],
   "source": []
  },
  {
   "cell_type": "markdown",
   "metadata": {},
   "source": [
    "### Advanced Questions"
   ]
  },
  {
   "cell_type": "markdown",
   "metadata": {},
   "source": [
    "> `Question:` The volume of a sphere with radius r is  4/3πr3  . What is the volume of a sphere with radius 5?"
   ]
  },
  {
   "cell_type": "code",
   "execution_count": 9,
   "metadata": {},
   "outputs": [
    {
     "name": "stdout",
     "output_type": "stream",
     "text": [
      "523.3333333333334\n"
     ]
    }
   ],
   "source": [
    "# CODE HERE\n",
    "r=5\n",
    "pie=3.14\n",
    "print(4/3*pie*r**3)"
   ]
  },
  {
   "cell_type": "markdown",
   "metadata": {},
   "source": [
    "> `Question:` Suppose the cover price of a book is Rs.24.95, but bookstores get a 40% discount. Shipping costs Rs.3 for the first copy and 75 paise for each additional copy. What is the total wholesale cost for 60 copies?"
   ]
  },
  {
   "cell_type": "code",
   "execution_count": 10,
   "metadata": {},
   "outputs": [
    {
     "name": "stdout",
     "output_type": "stream",
     "text": [
      "one cover discount priceis: 9.98\n",
      "60 covers total amount with out discount: 1497.0\n",
      "60 covers apply discount: 598.8000000000001\n",
      "total wholesale cost for 60 copies price : 945.4499999999999\n"
     ]
    }
   ],
   "source": [
    "# CODE HERE\n",
    "cover_price=24.95\n",
    "discount_price=40\n",
    "one_cover_shipping_price=3\n",
    "cover_shipping_59=0.75\n",
    "st_cover=cover_price/100*discount_price\n",
    "print(\"one cover discount priceis:\",st_cover)\n",
    "with_out=cover_price*60\n",
    "print(\"60 covers total amount with out discount:\",with_out)\n",
    "with_discount=st_cover*60\n",
    "print(\"60 covers apply discount:\",with_discount)\n",
    "total_amount=with_out-with_discount+59*cover_shipping_59+3\n",
    "print(\"total wholesale cost for 60 copies price :\",total_amount)\n",
    "\n"
   ]
  },
  {
   "cell_type": "code",
   "execution_count": null,
   "metadata": {},
   "outputs": [],
   "source": []
  },
  {
   "cell_type": "code",
   "execution_count": null,
   "metadata": {},
   "outputs": [],
   "source": []
  },
  {
   "cell_type": "markdown",
   "metadata": {},
   "source": [
    "# [Innomatics Research Labs](https:/innomatics.in/)\n",
    "[www.innomatics.in](https:/innomatics.in/)"
   ]
  }
 ],
 "metadata": {
  "kernelspec": {
   "display_name": "Python 3 (ipykernel)",
   "language": "python",
   "name": "python3"
  },
  "language_info": {
   "codemirror_mode": {
    "name": "ipython",
    "version": 3
   },
   "file_extension": ".py",
   "mimetype": "text/x-python",
   "name": "python",
   "nbconvert_exporter": "python",
   "pygments_lexer": "ipython3",
   "version": "3.11.7"
  }
 },
 "nbformat": 4,
 "nbformat_minor": 4
}
